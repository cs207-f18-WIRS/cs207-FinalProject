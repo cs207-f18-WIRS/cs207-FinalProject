{
 "cells": [
  {
   "cell_type": "markdown",
   "metadata": {
    "slideshow": {
     "slide_type": "slide"
    }
   },
   "source": [
    "## Setting the stage for a Jupyter Notebook Slideshow"
   ]
  },
  {
   "cell_type": "markdown",
   "metadata": {},
   "source": [
    "Best display by installing the excellent **RISE package** the [Jupyter/IPython Slideshow Extension of damianavila](https://github.com/damianavila/RISE). Install by ```   >>> conda install -c conda-forge rise```\n",
    " \n",
    "Afterwards a new button will after, after reopening a jupyter notebook:\n",
    "<center>\n",
    "<img src=\"https://raw.githubusercontent.com/cs207-f18-WIRS/cs207-FinalProject/master/demo/figs/IPythonSlideshow.png\" width=\"32%\" align=\"center\">\n",
    "</center>\n"
   ]
  },
  {
   "cell_type": "markdown",
   "metadata": {},
   "source": [
    "**Custum layout CSS**"
   ]
  },
  {
   "cell_type": "code",
   "execution_count": 1,
   "metadata": {},
   "outputs": [
    {
     "data": {
      "text/html": [
       "<style>\n",
       "/* an example to illustrate how to tweak font sizes */\n",
       "\n",
       "/* to apply a setting only when under RISE, \n",
       "   be aware that the <body> tag has class .rise-enabled */\n",
       "\n",
       "\n",
       "/* ---------- markdown cells\n",
       " */\n",
       "body.rise-enabled div.inner_cell>div.text_cell_render.rendered_html {\n",
       "    font-size: 56%;\n",
       "    margin: 1px;\n",
       "}\n",
       "/* ---------- code blocks inside markdown\n",
       "   i.e. within ``` lines, or 4-space indented\n",
       " */\n",
       "body.rise-enabled div.inner_cell>div.text_cell_render.rendered_html>pre {\n",
       "    margin: 1px;\n",
       "}\n",
       "/* ---------- size of code block\n",
       " */\n",
       "body.rise-enabled div.CodeMirror pre {\n",
       "\tfont-size: 13pt;\n",
       "    padding-top: 1px;\n",
       "    padding-bottom: 1px;\n",
       "} \n",
       "body.rise-enabled div.text_cell_render {\n",
       "    font-size: 11pt;\n",
       "    padding-top: 1px;\n",
       "    padding-bottom: 1px;\n",
       "}\n",
       "\n",
       "body.rise-enabled div.code_cell>div.text_cell_render.rendered_html> {\n",
       "    font-size: 49%;\n",
       "    padding-top: 1px;\n",
       "    padding-bottom: 1px;\n",
       "}\n",
       "/* ---------- size of code block\n",
       "output size and in and out []\n",
       " */\n",
       "body.rise-enabled div.code_cell{\n",
       "    font-size: 88%;\n",
       "}\n",
       "/* ---------- size of code block\n",
       "body.rise-enabled div.inner_cell>div.text_cell_render.rendered_html>pre>code {\n",
       "    font-size: 55%;\n",
       "}\n",
       "div.notebook-container {\n",
       "    width: 100%\n",
       "}\n",
       "\n",
       "div.code_cell {\n",
       "   flex-direction: row !important;\n",
       "}\n",
       "\n",
       "div.code_cell .input {\n",
       "    width: 50%\n",
       "}\n",
       "\n",
       "div.code_cell .output_wrapper {\n",
       "    width: 50%\n",
       "}\n",
       " */\n",
       "\n",
       "body.rise-enabled blockquote { background: #AEDE94; }\n",
       "body.rise-enabled h1 { \n",
       "    font-size: 45px;\n",
       "    padding-top: 30px;\n",
       "    padding-bottom: 10px;\n",
       "    text-align: left; \n",
       "    padding-left: 10px;\n",
       "    background-color: #EEEEEE; \n",
       "    color: black;\n",
       "}\n",
       "body.rise-enabled h2 { \n",
       "    font-size: 35px;\n",
       "    padding-top: 20px;\n",
       "    padding-bottom: 10px;\n",
       "    text-align: left; \n",
       "    padding-left: 10px;\n",
       "    background-color: #EEEEEE; \n",
       "    color: black;\n",
       "}\n",
       "body.rise-enabled div.exercise {\n",
       "\tfont-size: 12px;\n",
       "\tbackground-color: #ffcccc;\n",
       "\tborder-color: #E9967A; \t\n",
       "\tborder-left: 5px solid #EEEEEE; \n",
       "\tpadding: 0.5em;\n",
       "}\n",
       "body.rise-enabled div.theme {\n",
       "\tbackground-color: #EEEEEE;\n",
       "\tborder-color: #E9967A; \t\n",
       "\tborder-left: 5px solid #800080; \n",
       "\tpadding: 0.5em;\n",
       "\tfont-size: 10pt;\n",
       "}\n",
       "body.rise-enabled div.gc { \n",
       "\tbackground-color: #AEDE94;\n",
       "\tborder-color: #E9967A; \t \n",
       "\tborder-left: 5px solid #800080; \n",
       "\tpadding: 0.5em;\n",
       "\tfont-size: 12pt;\n",
       "}\n",
       "body.rise-enabled p.q1 { \n",
       "    padding-top: 5px;\n",
       "    padding-bottom: 5px;\n",
       "    text-align: left; \n",
       "    padding-left: 5px;\n",
       "    background-color: #EEEEEE; \n",
       "    color: black;\n",
       "}\n",
       "</style>\n",
       "\n"
      ],
      "text/plain": [
       "<IPython.core.display.HTML object>"
      ]
     },
     "execution_count": 1,
     "metadata": {},
     "output_type": "execute_result"
    }
   ],
   "source": [
    "import requests\n",
    "from IPython.core.display import HTML\n",
    "HTML(requests.get(\"https://raw.githubusercontent.com/cs207-f18-WIRS/cs207-FinalProject/master/demo/figs/Robbert_Struyven_css_config.css\").text )"
   ]
  },
  {
   "cell_type": "markdown",
   "metadata": {},
   "source": [
    "**Removing prompt numbers** ```In [1]:``` and ```Out [1]:``` ( If you want them back replace '''none''' with '''True''')"
   ]
  },
  {
   "cell_type": "code",
   "execution_count": 2,
   "metadata": {},
   "outputs": [
    {
     "data": {
      "text/html": [
       "<style> div.prompt {display:none} </style>\n"
      ],
      "text/plain": [
       "<IPython.core.display.HTML object>"
      ]
     },
     "metadata": {},
     "output_type": "display_data"
    }
   ],
   "source": [
    "%%HTML \n",
    "<style> div.prompt {display:none} </style>"
   ]
  },
  {
   "cell_type": "markdown",
   "metadata": {},
   "source": [
    "**Adjust width:** "
   ]
  },
  {
   "cell_type": "code",
   "execution_count": 3,
   "metadata": {},
   "outputs": [
    {
     "data": {
      "text/html": [
       "<style>.container { width:95% !important; }</style>"
      ],
      "text/plain": [
       "<IPython.core.display.HTML object>"
      ]
     },
     "metadata": {},
     "output_type": "display_data"
    }
   ],
   "source": [
    "from IPython.core.display import display, HTML\n",
    "display(HTML(\"<style>.container { width:95% !important; }</style>\"))"
   ]
  },
  {
   "cell_type": "markdown",
   "metadata": {},
   "source": [
    "**Navigate to next slide with arrows ->**"
   ]
  },
  {
   "cell_type": "markdown",
   "metadata": {
    "slideshow": {
     "slide_type": "slide"
    }
   },
   "source": [
    "## Demo and Presentation Final Project CS207\n",
    "### Automatic Differentiation: \n",
    "  - A user-friendly, flexible interface for derivatives\n",
    "  - Course CS 207: Systems Development for Computational Science\n",
    "  - Instructor Prof. David Sondak\n",
    "\n",
    "### Contributors:\n",
    " - FELDHAUS Isabelle \n",
    " - JIANG Shenghao \n",
    " - STRUYVEN Robbert\n",
    " - WANG William\n",
    "\n",
    "### Repositories:\n",
    " - [```Github Repository```](https://github.com/cs207-f18-WIRS/cs207-FinalProject)\n",
    " - [```PyPi Python Package Index distribution: 'AD-cs207'```](https://pypi.org/project/AD-cs207/) \n",
    " \n",
    "**12 December 2018**"
   ]
  },
  {
   "cell_type": "markdown",
   "metadata": {
    "slideshow": {
     "slide_type": "slide"
    }
   },
   "source": [
    "## Motivation\n",
    "\n",
    "  - Derivatives  are ubiquitous in each and every field. \n",
    "\n",
    "  - **[Automatic Differentiation: The most criminally underused tool in the potential machine learning toolbox?](https://justindomke.wordpress.com/2009/02/17/automatic-differentiation-the-most-criminally-underused-tool-in-the-potential-machine-learning-toolbox/)**\n",
    "\n",
    "\n",
    "## Use Cases\n",
    "\n",
    " - Methods\n",
    "  - Real-parameter optimization extrema\n",
    "  - Measuring the sensitivity of simulation to unknown parameters\n",
    "  - Physical modeling, parameter tuning\n",
    "  - Probabilistic inference\n",
    "  - Machine learning: optimizing the estimator given a certain loss function.\n",
    "  \n",
    " - **Personal research topics:**\n",
    "  - Understanding supply chain of vaccines and essential medicines delivery in Ethiopia\n",
    "  - Optimizing insurance benefits for diabetes control in China\n",
    "  - Tapping the power of machine learning and echocardiography to improve cardiovascular risk prediction"
   ]
  },
  {
   "cell_type": "markdown",
   "metadata": {
    "slideshow": {
     "slide_type": "slide"
    }
   },
   "source": [
    "## AD Package Features\n",
    "  \n",
    " 1. Forward mode automatic differentiation\n",
    " 2. Reverse mode automatic differentiation\n",
    " 3. Symbolic differentiation \n",
    "  - Flexible function input using string parser\n",
    "  - Returns both numeric value and formula\n",
    "  - Computation of higher order derivatives\n",
    "  - ```Sympy``` Package"
   ]
  },
  {
   "cell_type": "markdown",
   "metadata": {
    "slideshow": {
     "slide_type": "-"
    }
   },
   "source": [
    "## Installation via pip install of the [PyPi Package \"AD-cs207\"](https://pypi.org/project/AD-cs207/) \n"
   ]
  },
  {
   "cell_type": "code",
   "execution_count": 4,
   "metadata": {
    "slideshow": {
     "slide_type": "skip"
    }
   },
   "outputs": [
    {
     "name": "stdout",
     "output_type": "stream",
     "text": [
      "Uninstalling AD-cs207-0.1.1:\r\n",
      "  Successfully uninstalled AD-cs207-0.1.1\r\n"
     ]
    }
   ],
   "source": [
    "!pip uninstall AD-cs207 --yes"
   ]
  },
  {
   "cell_type": "code",
   "execution_count": 5,
   "metadata": {
    "slideshow": {
     "slide_type": "-"
    }
   },
   "outputs": [
    {
     "name": "stdout",
     "output_type": "stream",
     "text": [
      "Collecting AD-cs207==0.1.1\n",
      "Requirement already satisfied: sympy>=1.3 in /anaconda3/lib/python3.6/site-packages (from AD-cs207==0.1.1) (1.3)\n",
      "Installing collected packages: AD-cs207\n",
      "Successfully installed AD-cs207-0.1.1\n"
     ]
    }
   ],
   "source": [
    "!pip install AD-cs207==0.1.1"
   ]
  },
  {
   "cell_type": "markdown",
   "metadata": {
    "slideshow": {
     "slide_type": "slide"
    }
   },
   "source": [
    "## 1. Forward Mode Differentiation Implementation"
   ]
  },
  {
   "cell_type": "code",
   "execution_count": 6,
   "metadata": {
    "slideshow": {
     "slide_type": "-"
    }
   },
   "outputs": [],
   "source": [
    "from AD.for_ad import FD\n",
    "import math\n",
    "\n",
    "x    = FD(\"x\", 25 , 1)\n",
    "y    = FD(\"y\", 7  , 0)"
   ]
  },
  {
   "cell_type": "markdown",
   "metadata": {
    "slideshow": {
     "slide_type": "fragment"
    }
   },
   "source": [
    "Define function:\n",
    "$$f(x,y) = \\sqrt{x} \\cdot y$$"
   ]
  },
  {
   "cell_type": "code",
   "execution_count": 7,
   "metadata": {
    "slideshow": {
     "slide_type": "-"
    }
   },
   "outputs": [],
   "source": [
    "f_x  = FD.sqrt(x)*y"
   ]
  },
  {
   "cell_type": "markdown",
   "metadata": {
    "slideshow": {
     "slide_type": "fragment"
    }
   },
   "source": [
    "Evaluating $f(x,y)=\\sqrt{x} \\cdot y = \\sqrt{25} \\cdot 7 =  5 \\cdot 7 = 35$"
   ]
  },
  {
   "cell_type": "code",
   "execution_count": 8,
   "metadata": {
    "slideshow": {
     "slide_type": "-"
    }
   },
   "outputs": [
    {
     "data": {
      "text/plain": [
       "35.0"
      ]
     },
     "execution_count": 8,
     "metadata": {},
     "output_type": "execute_result"
    }
   ],
   "source": [
    "f_x.value"
   ]
  },
  {
   "cell_type": "markdown",
   "metadata": {
    "slideshow": {
     "slide_type": "fragment"
    }
   },
   "source": [
    "The derivative:\n",
    "$$\\dfrac{d}{dx}\\Big(\\sqrt{x} \\cdot y  \\Big) = \\dfrac{d}{dx}\\Big(x^{0.5} \\cdot y \\Big) = 0.5 x^{-0.5} \\cdot y  = \\dfrac{0.5}{\\sqrt{x}}\\cdot y  = \\dfrac{0.5}{\\sqrt{25}}\\cdot 7  = \\dfrac{0.5}{5} \\cdot 7 = 0.7$$\n"
   ]
  },
  {
   "cell_type": "code",
   "execution_count": 9,
   "metadata": {
    "slideshow": {
     "slide_type": "-"
    }
   },
   "outputs": [
    {
     "data": {
      "text/plain": [
       "0.7000000000000001"
      ]
     },
     "execution_count": 9,
     "metadata": {},
     "output_type": "execute_result"
    }
   ],
   "source": [
    "f_x.grad()"
   ]
  },
  {
   "cell_type": "code",
   "execution_count": 10,
   "metadata": {
    "slideshow": {
     "slide_type": "fragment"
    }
   },
   "outputs": [
    {
     "data": {
      "text/plain": [
       "5.0"
      ]
     },
     "execution_count": 10,
     "metadata": {},
     "output_type": "execute_result"
    }
   ],
   "source": [
    "# Reseeding for dy\n",
    "x    = FD(\"x\", 25 , 0)\n",
    "y    = FD(\"y\", 7  , 1)\n",
    "f_x  = FD.sqrt(x)*y\n",
    "f_x.grad()"
   ]
  },
  {
   "cell_type": "markdown",
   "metadata": {
    "slideshow": {
     "slide_type": "slide"
    }
   },
   "source": [
    "## 1. Forward Mode \n",
    "\n",
    "### Pros\n",
    "\n",
    " - Fast\n",
    " \n",
    " - Light weight\n",
    " \n",
    "### Cons\n",
    "\n",
    " - Re-seed needed for changing $\\dfrac{d}{dx}\\Big( ... \\Big) $ to $\\dfrac{d}{dy} \\Big( ... \\Big) $\n",
    " \n",
    " - Re-seed needed for changing coordinates"
   ]
  },
  {
   "cell_type": "markdown",
   "metadata": {
    "slideshow": {
     "slide_type": "slide"
    }
   },
   "source": [
    "## 2. Reverse Mode Differentiation"
   ]
  },
  {
   "cell_type": "code",
   "execution_count": 11,
   "metadata": {
    "slideshow": {
     "slide_type": "-"
    }
   },
   "outputs": [
    {
     "name": "stdout",
     "output_type": "stream",
     "text": [
      "Importing Reverse Mode Automatic Differentiation\n"
     ]
    }
   ],
   "source": [
    "from AD import rev_ad as RD"
   ]
  },
  {
   "cell_type": "markdown",
   "metadata": {
    "slideshow": {
     "slide_type": "fragment"
    }
   },
   "source": [
    "Define variables x and y and set it to values to 5 and 2 and the function:\n",
    "$$ f(x,y)=\\log{(x)} y^2$$"
   ]
  },
  {
   "cell_type": "code",
   "execution_count": 12,
   "metadata": {
    "slideshow": {
     "slide_type": "-"
    }
   },
   "outputs": [],
   "source": [
    "x   = RD.Var(\"x\", 5)\n",
    "y   = RD.Var(\"y\", 2)\n",
    "\n",
    "f_x = RD.ln(x)*y**2"
   ]
  },
  {
   "cell_type": "code",
   "execution_count": 13,
   "metadata": {
    "slideshow": {
     "slide_type": "-"
    }
   },
   "outputs": [],
   "source": [
    "# One seed for all variables\n",
    "f_x.grad_value = 1.0"
   ]
  },
  {
   "cell_type": "markdown",
   "metadata": {
    "slideshow": {
     "slide_type": "fragment"
    }
   },
   "source": [
    "Reverse Differentiation regarding to variable $x$ :\n",
    "$$\\dfrac{d}{dx}\\Big( \\log(x)  y^2 \\Big) = \\dfrac{1}{x} y^{2} = \\dfrac{1}{5} 2^{2} = \\dfrac{1}{5} 4 = \\dfrac{4}{5} $$\n"
   ]
  },
  {
   "cell_type": "code",
   "execution_count": 14,
   "metadata": {
    "slideshow": {
     "slide_type": "-"
    }
   },
   "outputs": [
    {
     "data": {
      "text/plain": [
       "0.8"
      ]
     },
     "execution_count": 14,
     "metadata": {},
     "output_type": "execute_result"
    }
   ],
   "source": [
    "x.grad()"
   ]
  },
  {
   "cell_type": "markdown",
   "metadata": {
    "slideshow": {
     "slide_type": "fragment"
    }
   },
   "source": [
    "Reverse Differentiation regarding to variable $y$ :\n",
    "$$\\dfrac{d}{dy}\\Big( \\log(x)  y^2 \\Big) = \\log(x) 2 y = \\log(5)4 $$"
   ]
  },
  {
   "cell_type": "code",
   "execution_count": 15,
   "metadata": {
    "slideshow": {
     "slide_type": "-"
    }
   },
   "outputs": [
    {
     "name": "stdout",
     "output_type": "stream",
     "text": [
      "6.437751649736401\n",
      "6.437751649736401\n"
     ]
    }
   ],
   "source": [
    "print( y.grad() )\n",
    "print( math.log(5)*4 ) "
   ]
  },
  {
   "cell_type": "markdown",
   "metadata": {
    "slideshow": {
     "slide_type": "slide"
    }
   },
   "source": [
    "## 2. Reverse mode\n",
    "\n",
    "### Pros\n",
    "\n",
    " - One seed for all derivatives\n",
    " \n",
    " - Fast\n",
    " \n",
    " - Light weight\n",
    " \n",
    "### Cons\n",
    " \n",
    " - Re-seed needed for changing coordinates\n",
    " \n",
    " - If one derivative does not exist for one variable, it can't compute other derivatives\n",
    "   \n",
    "    - $f(x,y)=x \\cdot \\sqrt{y}$\n",
    "   \n",
    "    - $\\dfrac{d}{dx} \\Big( f(x,y) \\Big) = \\dfrac{d}{dx} \\Big( x \\cdot \\sqrt{y} \\Big) = \\sqrt{y} = \\sqrt{0} = 0 $\n",
    "   \n",
    "    - $\\dfrac{d}{dy} \\Big( f(x,y) \\Big) = \\dfrac{d}{dy} \\Big( x \\cdot \\sqrt{y} \\Big) = \\dfrac{x}{2 \\sqrt{y}}  =  \\dfrac{3}{0} $"
   ]
  },
  {
   "cell_type": "code",
   "execution_count": 16,
   "metadata": {
    "slideshow": {
     "slide_type": "fragment"
    }
   },
   "outputs": [
    {
     "ename": "ZeroDivisionError",
     "evalue": "float division by zero",
     "output_type": "error",
     "traceback": [
      "\u001b[0;31m---------------------------------------------------------------------------\u001b[0m",
      "\u001b[0;31mZeroDivisionError\u001b[0m                         Traceback (most recent call last)",
      "\u001b[0;32m<ipython-input-16-eb89f3820a6f>\u001b[0m in \u001b[0;36m<module>\u001b[0;34m\u001b[0m\n\u001b[1;32m      2\u001b[0m \u001b[0my\u001b[0m   \u001b[0;34m=\u001b[0m \u001b[0mRD\u001b[0m\u001b[0;34m.\u001b[0m\u001b[0mVar\u001b[0m\u001b[0;34m(\u001b[0m\u001b[0;34m\"y\"\u001b[0m\u001b[0;34m,\u001b[0m \u001b[0;36m0\u001b[0m\u001b[0;34m)\u001b[0m\u001b[0;34m\u001b[0m\u001b[0m\n\u001b[1;32m      3\u001b[0m \u001b[0;34m\u001b[0m\u001b[0m\n\u001b[0;32m----> 4\u001b[0;31m \u001b[0mf_x\u001b[0m \u001b[0;34m=\u001b[0m \u001b[0mx\u001b[0m\u001b[0;34m*\u001b[0m\u001b[0mRD\u001b[0m\u001b[0;34m.\u001b[0m\u001b[0msqrt\u001b[0m\u001b[0;34m(\u001b[0m\u001b[0my\u001b[0m\u001b[0;34m)\u001b[0m\u001b[0;34m\u001b[0m\u001b[0m\n\u001b[0m\u001b[1;32m      5\u001b[0m \u001b[0mf_x\u001b[0m\u001b[0;34m.\u001b[0m\u001b[0mgrad_value\u001b[0m \u001b[0;34m=\u001b[0m \u001b[0;36m1.0\u001b[0m\u001b[0;34m\u001b[0m\u001b[0m\n",
      "\u001b[0;32m/anaconda3/lib/python3.6/site-packages/AD/rev_ad.py\u001b[0m in \u001b[0;36msqrt\u001b[0;34m(x)\u001b[0m\n\u001b[1;32m    142\u001b[0m     \u001b[0mn\u001b[0m \u001b[0;34m=\u001b[0m \u001b[0;34m\"sqrt(\"\u001b[0m \u001b[0;34m+\u001b[0m \u001b[0mstr\u001b[0m\u001b[0;34m(\u001b[0m\u001b[0mx\u001b[0m\u001b[0;34m)\u001b[0m \u001b[0;34m+\u001b[0m \u001b[0;34m\")\"\u001b[0m\u001b[0;34m\u001b[0m\u001b[0m\n\u001b[1;32m    143\u001b[0m     \u001b[0mz\u001b[0m \u001b[0;34m=\u001b[0m \u001b[0mVar\u001b[0m\u001b[0;34m(\u001b[0m\u001b[0mn\u001b[0m\u001b[0;34m,\u001b[0m \u001b[0mmath\u001b[0m\u001b[0;34m.\u001b[0m\u001b[0msqrt\u001b[0m\u001b[0;34m(\u001b[0m\u001b[0mx\u001b[0m\u001b[0;34m.\u001b[0m\u001b[0mvalue\u001b[0m\u001b[0;34m)\u001b[0m\u001b[0;34m)\u001b[0m\u001b[0;34m\u001b[0m\u001b[0m\n\u001b[0;32m--> 144\u001b[0;31m     \u001b[0mx\u001b[0m\u001b[0;34m.\u001b[0m\u001b[0mchildren\u001b[0m\u001b[0;34m.\u001b[0m\u001b[0mappend\u001b[0m\u001b[0;34m(\u001b[0m\u001b[0;34m(\u001b[0m\u001b[0;36m0.5\u001b[0m\u001b[0;34m/\u001b[0m\u001b[0;34m(\u001b[0m\u001b[0mx\u001b[0m\u001b[0;34m.\u001b[0m\u001b[0mvalue\u001b[0m\u001b[0;34m)\u001b[0m\u001b[0;34m**\u001b[0m\u001b[0;36m0.5\u001b[0m\u001b[0;34m,\u001b[0m \u001b[0mz\u001b[0m\u001b[0;34m)\u001b[0m\u001b[0;34m)\u001b[0m\u001b[0;34m\u001b[0m\u001b[0m\n\u001b[0m\u001b[1;32m    145\u001b[0m     \u001b[0;32mreturn\u001b[0m \u001b[0mz\u001b[0m\u001b[0;34m\u001b[0m\u001b[0m\n\u001b[1;32m    146\u001b[0m \u001b[0;34m\u001b[0m\u001b[0m\n",
      "\u001b[0;31mZeroDivisionError\u001b[0m: float division by zero"
     ]
    }
   ],
   "source": [
    "x   = RD.Var(\"x\", 3)\n",
    "y   = RD.Var(\"y\", 0)\n",
    "\n",
    "f_x = x*RD.sqrt(y)\n",
    "f_x.grad_value = 1.0"
   ]
  },
  {
   "cell_type": "markdown",
   "metadata": {
    "slideshow": {
     "slide_type": "slide"
    }
   },
   "source": [
    "## 3. Symbolic Differentiation"
   ]
  },
  {
   "cell_type": "markdown",
   "metadata": {
    "slideshow": {
     "slide_type": "-"
    }
   },
   "source": [
    "Symbolic differentiation of a certain function **not possible with forward or backward diferentiation.** \n",
    "\n",
    "$$ f(x)=x^{x^{x}} $$\n"
   ]
  },
  {
   "cell_type": "markdown",
   "metadata": {
    "slideshow": {
     "slide_type": "-"
    }
   },
   "source": [
    "<center>\n",
    "<img src=\"https://raw.githubusercontent.com/cs207-f18-WIRS/cs207-FinalProject/master/demo/figs/Wolfram.png\" width=\"30%\" align=\"center\">\n",
    "</center>"
   ]
  },
  {
   "cell_type": "markdown",
   "metadata": {
    "slideshow": {
     "slide_type": "fragment"
    }
   },
   "source": [
    "Calculate the symbolic form of the derivative with ```symbolic_diff(dv='x')``` : \n",
    "\n",
    "$$\\dfrac{d}{dx}\\Big( x^{x^{x}} \\Big) = x^{x^x + x - 1} (x log^2(x) + x log(x) + 1) $$"
   ]
  },
  {
   "cell_type": "code",
   "execution_count": 19,
   "metadata": {
    "slideshow": {
     "slide_type": "-"
    }
   },
   "outputs": [
    {
     "data": {
      "text/plain": [
       "x**(x**x - 1)*(x**x + x**(x + 1)*(log(x) + 1)*log(x))"
      ]
     },
     "execution_count": 19,
     "metadata": {},
     "output_type": "execute_result"
    }
   ],
   "source": [
    "from AD.symdif import SD as SD\n",
    "f1 = \"POW(x, POW(x, x))\"\n",
    "vd = \"x:2.0\"\n",
    "F1 = SD(f1)\n",
    "F1.set_point(vd)\n",
    "F1.symbolic_diff(dv='x') "
   ]
  },
  {
   "cell_type": "markdown",
   "metadata": {
    "slideshow": {
     "slide_type": "skip"
    }
   },
   "source": [
    "$$x^{x^x -1} (x^x + x^{x + 1}(\\log(x) + 1)\\log(x))=x^{x^x  -1} (x^x (1 + x^{+ 1}(\\log(x) + 1)\\log(x)) $$\n",
    "\n",
    "$$ x^{x^x + x -1} (1 + x(\\log(x)\\log(x) + \\log(x)) ) =x^{x^x + x -1} (1 + x \\log^2(x) + x \\log(x)) )  $$"
   ]
  },
  {
   "cell_type": "markdown",
   "metadata": {
    "slideshow": {
     "slide_type": "slide"
    }
   },
   "source": [
    "Evaluating this derivative at $x=2$ with ```diff(dv='x')```:"
   ]
  },
  {
   "cell_type": "markdown",
   "metadata": {
    "slideshow": {
     "slide_type": "-"
    }
   },
   "source": [
    "$$\\dfrac{d}{dx}\\Big( x^{x^{x}} \\Big) = x^{x^x + x - 1} (x log^2(x) + x log(x) + 1) $$\n",
    "\n",
    "$$\\dfrac{d}{dx}\\Big( x^{x^{x}} \\Big) = 2^{2^2 + 2 - 1} (2 log^2(2) + 2 log(2) + 1)$$\n",
    "\n",
    "$$\\dfrac{d}{dx}\\Big( x^{x^{x}} \\Big) = 2^{5} (2 log^2(2) + 2 log(2) + 1)$$"
   ]
  },
  {
   "cell_type": "code",
   "execution_count": 20,
   "metadata": {
    "slideshow": {
     "slide_type": "-"
    }
   },
   "outputs": [
    {
     "data": {
      "text/plain": [
       "107.11041244660139"
      ]
     },
     "execution_count": 20,
     "metadata": {},
     "output_type": "execute_result"
    }
   ],
   "source": [
    "F1.diff(dv='x') "
   ]
  },
  {
   "cell_type": "markdown",
   "metadata": {
    "slideshow": {
     "slide_type": "-"
    }
   },
   "source": [
    "Check:"
   ]
  },
  {
   "cell_type": "code",
   "execution_count": 21,
   "metadata": {
    "slideshow": {
     "slide_type": "-"
    }
   },
   "outputs": [
    {
     "data": {
      "text/plain": [
       "107.11041244660139"
      ]
     },
     "execution_count": 21,
     "metadata": {},
     "output_type": "execute_result"
    }
   ],
   "source": [
    "2**5*(2*math.log(2)**2 + 2*math.log(2) + 1)"
   ]
  },
  {
   "cell_type": "markdown",
   "metadata": {
    "slideshow": {
     "slide_type": "slide"
    }
   },
   "source": [
    " ## Symbolic Differentiation\n",
    " **Derivation regarding multiple variables**: ```diff_all()```"
   ]
  },
  {
   "cell_type": "markdown",
   "metadata": {
    "slideshow": {
     "slide_type": "-"
    }
   },
   "source": [
    "$$f(x)=x \\cdot y \\cdot z$$\n",
    "\n",
    "$$\\dfrac{d}{dx}\\big( xyz \\big) =yz=2\\cdot3=6$$\n",
    "\n",
    "$$\\dfrac{d}{dy}\\big( xyz \\big)=xz=1\\cdot3=3$$\n",
    "\n",
    "$$\\dfrac{d}{dz}\\big( xyz \\big)=xy=1\\cdot2=2$$"
   ]
  },
  {
   "cell_type": "code",
   "execution_count": 22,
   "metadata": {
    "slideshow": {
     "slide_type": "-"
    }
   },
   "outputs": [
    {
     "data": {
      "text/plain": [
       "{'d_x': 6.0, 'd_y': 3.0, 'd_z': 2.0}"
      ]
     },
     "execution_count": 22,
     "metadata": {},
     "output_type": "execute_result"
    }
   ],
   "source": [
    "f2 = \"x*y*z\"\n",
    "vd = \"x:1, y:2, z:3\"\n",
    "F2 = SD(f2)\n",
    "F2.set_point(vd)\n",
    "F2.diff_all()"
   ]
  },
  {
   "cell_type": "markdown",
   "metadata": {
    "slideshow": {
     "slide_type": "slide"
    }
   },
   "source": [
    "## Symbolic Differentiation\n",
    "**Higher order derivation**: ```symbolic_diff(\"x\", order = n_order)```"
   ]
  },
  {
   "cell_type": "markdown",
   "metadata": {},
   "source": [
    "$$f(x) = e^{2x} + \\sin(x)$$\n",
    "\n",
    "$$\\dfrac{d}{dx}(e^{2x})=2 e^{2 x} + \\cos(x)$$\n",
    "\n",
    "$$\\dfrac{d^2}{dx^2}(e^{2x})=4 e^{2 x} - \\sin(x)$$\n",
    "\n",
    "$$\\dfrac{d^3}{dx^3}(e^{2x})=8 e^{2 x} - \\cos(x)$$"
   ]
  },
  {
   "cell_type": "code",
   "execution_count": 23,
   "metadata": {
    "slideshow": {
     "slide_type": "-"
    }
   },
   "outputs": [
    {
     "data": {
      "text/plain": [
       "2.0*exp(2.0*x) + cos(x)"
      ]
     },
     "execution_count": 23,
     "metadata": {},
     "output_type": "execute_result"
    }
   ],
   "source": [
    "f1 = \"EXP(2*x)+sin(x)\"\n",
    "vd = \"x:2\"\n",
    "F1 = SD(f1)\n",
    "F1.set_point(vd)\n",
    "F1.symbolic_diff(\"x\") "
   ]
  },
  {
   "cell_type": "code",
   "execution_count": 24,
   "metadata": {
    "slideshow": {
     "slide_type": "fragment"
    }
   },
   "outputs": [
    {
     "data": {
      "text/plain": [
       "4.0*exp(2.0*x) - sin(x)"
      ]
     },
     "execution_count": 24,
     "metadata": {},
     "output_type": "execute_result"
    }
   ],
   "source": [
    "F1.symbolic_diff(\"x\", order=2)"
   ]
  },
  {
   "cell_type": "code",
   "execution_count": 25,
   "metadata": {
    "slideshow": {
     "slide_type": "fragment"
    }
   },
   "outputs": [
    {
     "data": {
      "text/plain": [
       "8.0*exp(2.0*x) - cos(x)"
      ]
     },
     "execution_count": 25,
     "metadata": {},
     "output_type": "execute_result"
    }
   ],
   "source": [
    "F1.symbolic_diff(\"x\", order=3) "
   ]
  },
  {
   "cell_type": "markdown",
   "metadata": {
    "slideshow": {
     "slide_type": "slide"
    }
   },
   "source": [
    "## 3. Symbolic differentiation\n",
    "\n",
    "### Pros\n",
    "\n",
    " - Return the formula as a string, easy computation of\n",
    " \n",
    "  - High order derivatives\n",
    " \n",
    " - Derivatives with respect to many variables\n",
    " - Derivatives at different coordinates with ```set_point()```\n",
    "\n",
    " \n",
    "### Cons\n",
    " \n",
    " - Slow\n",
    " - High memory usage"
   ]
  },
  {
   "cell_type": "markdown",
   "metadata": {
    "slideshow": {
     "slide_type": "slide"
    }
   },
   "source": [
    "## Sympy package: Python library for symbolic mathematics\n",
    "### Used together with ```symdif.SD.simplify()``` for simplification (not for symbolic differentiation!)"
   ]
  },
  {
   "cell_type": "markdown",
   "metadata": {},
   "source": [
    "((((((((POW(x,3.0)*(3.0/x))*(3.0/x))+(POW(x,3.0)*((-3.0)/(x*x))))*(3.0/x))+((POW(x,3.0)*(3.0/x))*((-3.0)/(x*x))))+(((POW(x,3.0)*(3.0/x))*(-3.0/(x*x)))+(POW(x,3.0)*(((-0*(x*x))-(-3.0*(x+x)))/((x*x)*(x*x))))))*y)*y)\n",
    "\n",
    "```python\n",
    "f1 = \"(((((POW(x,3.0)*(3.0/x))*(3.0/x))+(POW(x,3.0)*((-3.0)/(x*x))))*y)*y)\"\n",
    "f1 = \"(((((POW(x,2.0)*3.0)*(3.0/x))+(POW(x,3.0)*((-3.0)/(x*x))))*y)*y)\"\n",
    "f1 = \"((((POW(x,1.0)*9.0)+(POW(x,3.0)*((-3.0)/(x*x))))*y)*y)\"\n",
    "f1 = \"((((POW(x,1.0)*9.0)+(POW(x,1.0)*(-3.0)))*y)*y)\"\n",
    "f1 = \"(((x*9.0)+x*-3.0))*y)*y)\"\n",
    "f1 = \"((x*6.0)*y**2))\"\n",
    "f1 = \"6*x*y**2\"\n",
    "```\n",
    "$$\\dfrac{d}{dx} \\Big( f_1(x,y) \\Big) = \\dfrac{d}{dx} \\Big( 6xy^2 \\Big) = 6y^2$$"
   ]
  },
  {
   "cell_type": "code",
   "execution_count": 26,
   "metadata": {
    "slideshow": {
     "slide_type": "fragment"
    }
   },
   "outputs": [
    {
     "name": "stdout",
     "output_type": "stream",
     "text": [
      "\n",
      "Symbolic differentiation result:\n",
      "((((((((POW(x,3.0)*(3.0/x))*(3.0/x))+(POW(x,3.0)*((-3.0)/(x*x))))*(3.0/x))+((POW(x,3.0)*(3.0/x))*((-3.0)/(x*x))))+(((POW(x,3.0)*(3.0/x))*(-3.0/(x*x)))+(POW(x,3.0)*(((-0*(x*x))-(-3.0*(x+x)))/((x*x)*(x*x))))))*y)*y)\n",
      "\n",
      "Simplified Pretty Print:\n",
      "\n",
      "     2\n",
      "6.0⋅y \n",
      "\n",
      "Simplified Latex code:\n",
      "6.0 y^{2}\n",
      "\n",
      "Simplified Default:\n",
      "6.0*y**2 \n",
      "\n"
     ]
    }
   ],
   "source": [
    "f1 = \"(((((POW(x,3.0)*(3.0/x))*(3.0/x))+(POW(x,3.0)*((-3.0)/(x*x))))*y)*y)\"\n",
    "vd = \"x:2,y:3\"\n",
    "F1 = SD(f1)\n",
    "F1.set_point(vd)\n",
    "F1.symbolic_diff(\"x\", output='all');"
   ]
  },
  {
   "cell_type": "markdown",
   "metadata": {
    "slideshow": {
     "slide_type": "slide"
    }
   },
   "source": [
    "## Sympy package: Python library for symbolic mathematics. \n",
    "### Production of latex usable code"
   ]
  },
  {
   "cell_type": "code",
   "execution_count": 27,
   "metadata": {
    "slideshow": {
     "slide_type": "-"
    }
   },
   "outputs": [
    {
     "name": "stdout",
     "output_type": "stream",
     "text": [
      "\\frac{1}{\\cos^{2}{\\left (x \\right )}}\n"
     ]
    }
   ],
   "source": [
    "f1 = \"TAN(x)\"\n",
    "vd = \"x:2\"\n",
    "F1 = SD(f1)\n",
    "F1.set_point(vd)\n",
    "print(F1.symbolic_diff(\"x\", output='latex') ) "
   ]
  },
  {
   "cell_type": "markdown",
   "metadata": {
    "slideshow": {
     "slide_type": "fragment"
    }
   },
   "source": [
    "When we latex this result: ``` \\frac{1}{\\cos^{2}{\\left (x \\right )}} ``` we get:"
   ]
  },
  {
   "cell_type": "markdown",
   "metadata": {
    "slideshow": {
     "slide_type": "fragment"
    }
   },
   "source": [
    "$$\\frac{1}{\\cos^{2}{\\left (x \\right )}}$$"
   ]
  },
  {
   "cell_type": "markdown",
   "metadata": {
    "slideshow": {
     "slide_type": "skip"
    }
   },
   "source": [
    "## Use Cases\n",
    "\n",
    "### Methods\n",
    "  - Real-parameter optimization\n",
    "  - Measuring the sensitivity of simulation to unknown parameters\n",
    "  - Physical modeling, parameter tuning\n",
    "  - Probabilistic inference\n",
    "  - Machine learning ...\n",
    "  \n",
    "### Topics\n",
    "  - Atmospheric chemistry\n",
    "  - Breast cancer biostatistics analysis\n",
    "  - Chemical kinetics\n",
    "  - Semiconductor device simulation\n",
    "  - Water reservoir simulation\n",
    "  - Design optimization ...\n",
    "  \n",
    "Derivatives and their application in the form of differential equations, are ubiquitous in each and every branch of engineering and especially in machine learning. Machine learning is all about optimizating proposed models by finding the \"best available\" estimator given a certain objective loss function. These tasks can be restated to finding the extrema of the loss functions or the zeros of the derivative of the loss function. **[Automatic Differentiation: The most criminally underused tool in the potential machine learning toolbox?](https://justindomke.wordpress.com/2009/02/17/automatic-differentiation-the-most-criminally-underused-tool-in-the-potential-machine-learning-toolbox/)**\n",
    "\n",
    "\n",
    " - Addressing the weaknesses of other techniques\n",
    " \n",
    "   - Symbolic differentiation\n",
    "    - Inefficient code that grows with program size and complexity\n",
    "    - Challenge of converting computer program into a single expression\n",
    "   - Numerical differentiation\n",
    "    - Round-off or truncation errors\n",
    "   - Problems calculating higher derivatives\n",
    "   - Slow at computing partial derivatives with respect to many inputs\n",
    "   \n",
    "   "
   ]
  },
  {
   "cell_type": "markdown",
   "metadata": {
    "slideshow": {
     "slide_type": "slide"
    }
   },
   "source": [
    "## AD Package Features\n",
    "  \n",
    " 1. Forward mode automatic differentiation\n",
    " 2. Reverse mode automatic differentiation\n",
    " 3. Symbolic differentiation "
   ]
  },
  {
   "cell_type": "code",
   "execution_count": 28,
   "metadata": {
    "slideshow": {
     "slide_type": "-"
    }
   },
   "outputs": [
    {
     "name": "stdout",
     "output_type": "stream",
     "text": [
      "Questions?\n"
     ]
    }
   ],
   "source": [
    "print( 'Questions?')"
   ]
  }
 ],
 "metadata": {
  "celltoolbar": "Slideshow",
  "kernelspec": {
   "display_name": "Python 3",
   "language": "python",
   "name": "python3"
  },
  "language_info": {
   "codemirror_mode": {
    "name": "ipython",
    "version": 3
   },
   "file_extension": ".py",
   "mimetype": "text/x-python",
   "name": "python",
   "nbconvert_exporter": "python",
   "pygments_lexer": "ipython3",
   "version": "3.6.6"
  },
  "varInspector": {
   "cols": {
    "lenName": 16,
    "lenType": 16,
    "lenVar": 40
   },
   "kernels_config": {
    "python": {
     "delete_cmd_postfix": "",
     "delete_cmd_prefix": "del ",
     "library": "var_list.py",
     "varRefreshCmd": "print(var_dic_list())"
    },
    "r": {
     "delete_cmd_postfix": ") ",
     "delete_cmd_prefix": "rm(",
     "library": "var_list.r",
     "varRefreshCmd": "cat(var_dic_list()) "
    }
   },
   "tags": [
    "to_remove"
   ],
   "types_to_exclude": [
    "module",
    "function",
    "builtin_function_or_method",
    "instance",
    "_Feature",
    "tags"
   ],
   "window_display": false
  }
 },
 "nbformat": 4,
 "nbformat_minor": 1
}
