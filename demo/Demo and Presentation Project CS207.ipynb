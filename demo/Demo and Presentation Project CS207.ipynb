{
 "cells": [
  {
   "cell_type": "markdown",
   "metadata": {
    "slideshow": {
     "slide_type": "slide"
    }
   },
   "source": [
    "## Demo and Presentation Final Project CS207\n",
    "### Automatic Differentiation: \n",
    "  - A user-friendly, flexible interface for derivatives\n",
    "  - Course CS 207: Systems Development for Computational Science\n",
    "  - Instructor Prof. David Sondak\n",
    "\n",
    "### Contributors:\n",
    " - FELDHAUS Isabelle \n",
    " - JIANG Shenghao \n",
    " - STRUYVEN Robbert\n",
    " - WANG William\n",
    "\n",
    "### Repositories:\n",
    " - [```Github Repository```](https://github.com/cs207-f18-WIRS/cs207-FinalProject/)\n",
    " - [```PyPi Python Package Index distribution: 'AD-cs207'```](https://pypi.org/project/AD-cs207/) \n",
    " \n",
    "### Date: 12 December 2018\n",
    "\n",
    " - [Explanation on how to make this into a slideshow (click here)](#slides)\n",
    "\n",
    "---"
   ]
  },
  {
   "cell_type": "markdown",
   "metadata": {
    "slideshow": {
     "slide_type": "slide"
    }
   },
   "source": [
    "## Motivation\n",
    "\n",
    "  - Derivatives  are ubiquitous in each and every field. \n",
    "\n",
    "  - **[Automatic Differentiation: The most criminally underused tool in the potential machine learning toolbox?](https://justindomke.wordpress.com/2009/02/17/automatic-differentiation-the-most-criminally-underused-tool-in-the-potential-machine-learning-toolbox/)**\n",
    "\n",
    "\n",
    "## Use Cases\n",
    "\n",
    " - Methods\n",
    "  - Real-parameter optimization extrema\n",
    "  - Measuring the sensitivity of simulation to unknown parameters\n",
    "  - Physical modeling, parameter tuning\n",
    "  - Probabilistic inference\n",
    "  - Machine learning: optimizing the estimator given a certain loss function.\n",
    "  \n",
    " - **Personal research topics:**\n",
    "  - Understanding supply chain of vaccines and essential medicines delivery in Ethiopia\n",
    "  - Optimizing insurance benefits for diabetes control in China\n",
    "  - Tapping the power of machine learning and echocardiography to improve cardiovascular risk prediction\n",
    "  \n",
    "  \n",
    "---"
   ]
  },
  {
   "cell_type": "markdown",
   "metadata": {
    "slideshow": {
     "slide_type": "slide"
    }
   },
   "source": [
    "## AD Package Features\n",
    "  \n",
    " 1. Forward mode automatic differentiation\n",
    " 2. Reverse mode automatic differentiation\n",
    " 3. Symbolic differentiation \n",
    "  - Flexible function input using string parser\n",
    "  - Returns both numeric value and formula\n",
    "  - Computation of higher order derivatives\n",
    "  - ```Sympy``` Package"
   ]
  },
  {
   "cell_type": "markdown",
   "metadata": {
    "slideshow": {
     "slide_type": "-"
    }
   },
   "source": [
    "## Installation via pip install of the [PyPi Package \"AD-cs207\"](https://pypi.org/project/AD-cs207/) \n"
   ]
  },
  {
   "cell_type": "code",
   "execution_count": 1,
   "metadata": {
    "slideshow": {
     "slide_type": "skip"
    }
   },
   "outputs": [
    {
     "name": "stdout",
     "output_type": "stream",
     "text": [
      "Uninstalling AD-cs207-1.0.0:\r\n",
      "  Successfully uninstalled AD-cs207-1.0.0\r\n"
     ]
    }
   ],
   "source": [
    "!pip uninstall AD-cs207 --yes"
   ]
  },
  {
   "cell_type": "code",
   "execution_count": 2,
   "metadata": {
    "slideshow": {
     "slide_type": "-"
    }
   },
   "outputs": [
    {
     "name": "stdout",
     "output_type": "stream",
     "text": [
      "Collecting AD-cs207==1.0.0\n",
      "Requirement already satisfied: sympy>=1.3 in /anaconda3/lib/python3.6/site-packages (from AD-cs207==1.0.0) (1.3)\n",
      "Installing collected packages: AD-cs207\n",
      "Successfully installed AD-cs207-1.0.0\n"
     ]
    }
   ],
   "source": [
    "!pip install AD-cs207==1.0.0"
   ]
  },
  {
   "cell_type": "markdown",
   "metadata": {
    "slideshow": {
     "slide_type": "-"
    }
   },
   "source": [
    "---"
   ]
  },
  {
   "cell_type": "markdown",
   "metadata": {
    "slideshow": {
     "slide_type": "slide"
    }
   },
   "source": [
    "## 1. Forward Mode Differentiation Implementation"
   ]
  },
  {
   "cell_type": "code",
   "execution_count": 3,
   "metadata": {
    "slideshow": {
     "slide_type": "skip"
    }
   },
   "outputs": [],
   "source": [
    "import math"
   ]
  },
  {
   "cell_type": "code",
   "execution_count": 4,
   "metadata": {
    "slideshow": {
     "slide_type": "-"
    }
   },
   "outputs": [],
   "source": [
    "from AD.for_ad import FD\n",
    "x    = FD(\"x\", 25 , 1)\n",
    "y    = FD(\"y\", 7  , 0)"
   ]
  },
  {
   "cell_type": "markdown",
   "metadata": {
    "slideshow": {
     "slide_type": "fragment"
    }
   },
   "source": [
    "Define function:\n",
    "$$f(x,y) = \\sqrt{x} \\cdot y$$"
   ]
  },
  {
   "cell_type": "code",
   "execution_count": 5,
   "metadata": {
    "slideshow": {
     "slide_type": "-"
    }
   },
   "outputs": [],
   "source": [
    "f_x  = FD.sqrt(x)*y"
   ]
  },
  {
   "cell_type": "markdown",
   "metadata": {
    "slideshow": {
     "slide_type": "fragment"
    }
   },
   "source": [
    "$$f(x,y)=\\sqrt{x} \\cdot y = \\sqrt{25} \\cdot 7 =  5 \\cdot 7 = 35$$"
   ]
  },
  {
   "cell_type": "code",
   "execution_count": 6,
   "metadata": {
    "slideshow": {
     "slide_type": "-"
    }
   },
   "outputs": [
    {
     "data": {
      "text/plain": [
       "35.0"
      ]
     },
     "execution_count": 6,
     "metadata": {},
     "output_type": "execute_result"
    }
   ],
   "source": [
    "f_x.value"
   ]
  },
  {
   "cell_type": "markdown",
   "metadata": {
    "slideshow": {
     "slide_type": "fragment"
    }
   },
   "source": [
    "$$\\dfrac{d}{dx}\\Big(\\sqrt{x} \\cdot y  \\Big) = \\dfrac{d}{dx}\\Big(x^{0.5} \\cdot y \\Big) = 0.5 x^{-0.5} \\cdot y  = \\dfrac{0.5}{\\sqrt{x}}\\cdot y  = \\dfrac{0.5}{\\sqrt{25}}\\cdot 7  = \\dfrac{0.5}{5} \\cdot 7 = 0.7$$"
   ]
  },
  {
   "cell_type": "code",
   "execution_count": 7,
   "metadata": {
    "slideshow": {
     "slide_type": "-"
    }
   },
   "outputs": [
    {
     "data": {
      "text/plain": [
       "0.7000000000000001"
      ]
     },
     "execution_count": 7,
     "metadata": {},
     "output_type": "execute_result"
    }
   ],
   "source": [
    "f_x.grad()"
   ]
  },
  {
   "cell_type": "code",
   "execution_count": 8,
   "metadata": {
    "slideshow": {
     "slide_type": "fragment"
    }
   },
   "outputs": [
    {
     "data": {
      "text/plain": [
       "5.0"
      ]
     },
     "execution_count": 8,
     "metadata": {},
     "output_type": "execute_result"
    }
   ],
   "source": [
    "# Reseeding for dy\n",
    "x    = FD(\"x\", 25 , 0)\n",
    "y    = FD(\"y\", 7  , 1)\n",
    "f_x  = FD.sqrt(x)*y\n",
    "f_x.grad()"
   ]
  },
  {
   "cell_type": "markdown",
   "metadata": {
    "slideshow": {
     "slide_type": "-"
    }
   },
   "source": [
    "---"
   ]
  },
  {
   "cell_type": "markdown",
   "metadata": {
    "slideshow": {
     "slide_type": "slide"
    }
   },
   "source": [
    "## 1. Forward Mode \n",
    "\n",
    "### Pros\n",
    "\n",
    " - Fast\n",
    " \n",
    " - Light weight\n",
    " \n",
    "### Cons\n",
    "\n",
    " - Re-seed needed for changing $\\dfrac{d}{dx}\\Big( ... \\Big) $ to $\\dfrac{d}{dy} \\Big( ... \\Big) $\n",
    " \n",
    " - Re-seed needed for changing coordinates"
   ]
  },
  {
   "cell_type": "markdown",
   "metadata": {
    "slideshow": {
     "slide_type": "-"
    }
   },
   "source": [
    "---"
   ]
  },
  {
   "cell_type": "markdown",
   "metadata": {
    "slideshow": {
     "slide_type": "slide"
    }
   },
   "source": [
    "## 2. Reverse Mode Differentiation"
   ]
  },
  {
   "cell_type": "code",
   "execution_count": 9,
   "metadata": {
    "slideshow": {
     "slide_type": "-"
    }
   },
   "outputs": [
    {
     "name": "stdout",
     "output_type": "stream",
     "text": [
      "Importing Reverse Mode Automatic Differentiation\n"
     ]
    }
   ],
   "source": [
    "from AD import rev_ad as RD"
   ]
  },
  {
   "cell_type": "markdown",
   "metadata": {
    "slideshow": {
     "slide_type": "fragment"
    }
   },
   "source": [
    "Define variables x and y and set it to values to 5 and 2 and the function:\n",
    "$$ f(x,y)=\\log{(x)} y^2$$"
   ]
  },
  {
   "cell_type": "code",
   "execution_count": 10,
   "metadata": {
    "slideshow": {
     "slide_type": "-"
    }
   },
   "outputs": [],
   "source": [
    "x   = RD.Var(\"x\", 5)\n",
    "y   = RD.Var(\"y\", 2)\n",
    "\n",
    "f_x = RD.ln(x)*y**2"
   ]
  },
  {
   "cell_type": "code",
   "execution_count": 11,
   "metadata": {
    "slideshow": {
     "slide_type": "-"
    }
   },
   "outputs": [],
   "source": [
    "# One seed for all variables\n",
    "f_x.grad_value = 1.0"
   ]
  },
  {
   "cell_type": "markdown",
   "metadata": {
    "slideshow": {
     "slide_type": "fragment"
    }
   },
   "source": [
    "Reverse Differentiation regarding to variable $x$ :\n",
    "$$\\dfrac{d}{dx}\\Big( \\log(x)  y^2 \\Big) = \\dfrac{1}{x} y^{2} = \\dfrac{1}{5} 2^{2} = \\dfrac{1}{5} 4 = \\dfrac{4}{5} $$\n"
   ]
  },
  {
   "cell_type": "code",
   "execution_count": 12,
   "metadata": {
    "slideshow": {
     "slide_type": "-"
    }
   },
   "outputs": [
    {
     "data": {
      "text/plain": [
       "0.8"
      ]
     },
     "execution_count": 12,
     "metadata": {},
     "output_type": "execute_result"
    }
   ],
   "source": [
    "x.grad()"
   ]
  },
  {
   "cell_type": "markdown",
   "metadata": {
    "slideshow": {
     "slide_type": "fragment"
    }
   },
   "source": [
    "Reverse Differentiation regarding to variable $y$ :\n",
    "$$\\dfrac{d}{dy}\\Big( \\log(x)  y^2 \\Big) = \\log(x) 2 y = \\log(5)4 $$"
   ]
  },
  {
   "cell_type": "code",
   "execution_count": 13,
   "metadata": {
    "slideshow": {
     "slide_type": "-"
    }
   },
   "outputs": [
    {
     "name": "stdout",
     "output_type": "stream",
     "text": [
      "6.437751649736401\n",
      "6.437751649736401\n"
     ]
    }
   ],
   "source": [
    "import math\n",
    "print( y.grad() )\n",
    "print( math.log(5)*4 ) "
   ]
  },
  {
   "cell_type": "markdown",
   "metadata": {
    "slideshow": {
     "slide_type": "-"
    }
   },
   "source": [
    "---"
   ]
  },
  {
   "cell_type": "markdown",
   "metadata": {
    "slideshow": {
     "slide_type": "slide"
    }
   },
   "source": [
    "## 2. Reverse mode\n",
    "\n",
    "### Pros\n",
    "\n",
    " - One seed for all derivatives\n",
    " \n",
    " - Fast\n",
    " \n",
    " - Light weight\n",
    " \n",
    "### Cons\n",
    " \n",
    " - Re-seed needed for changing coordinates\n",
    " \n",
    " - If one derivative does not exist for one variable, it can't compute other derivatives for example $f(x,y)=x \\cdot \\sqrt{y}$\n",
    "  \n",
    "    - $\\dfrac{d}{dx} \\Big( f(x,y) \\Big) = \\dfrac{d}{dx} \\Big( x \\cdot \\sqrt{y} \\Big) = \\sqrt{y} = \\sqrt{0} = 0 $\n",
    "   \n",
    "    - $\\dfrac{d}{dy} \\Big( f(x,y) \\Big) = \\dfrac{d}{dy} \\Big( x \\cdot \\sqrt{y} \\Big) = \\dfrac{x}{2 \\sqrt{y}}  =  \\dfrac{3}{0} $"
   ]
  },
  {
   "cell_type": "code",
   "execution_count": 14,
   "metadata": {
    "slideshow": {
     "slide_type": "fragment"
    }
   },
   "outputs": [
    {
     "ename": "ZeroDivisionError",
     "evalue": "float division by zero",
     "output_type": "error",
     "traceback": [
      "\u001b[0;31m---------------------------------------------------------------------------\u001b[0m",
      "\u001b[0;31mZeroDivisionError\u001b[0m                         Traceback (most recent call last)",
      "\u001b[0;32m<ipython-input-14-eb89f3820a6f>\u001b[0m in \u001b[0;36m<module>\u001b[0;34m\u001b[0m\n\u001b[1;32m      2\u001b[0m \u001b[0my\u001b[0m   \u001b[0;34m=\u001b[0m \u001b[0mRD\u001b[0m\u001b[0;34m.\u001b[0m\u001b[0mVar\u001b[0m\u001b[0;34m(\u001b[0m\u001b[0;34m\"y\"\u001b[0m\u001b[0;34m,\u001b[0m \u001b[0;36m0\u001b[0m\u001b[0;34m)\u001b[0m\u001b[0;34m\u001b[0m\u001b[0m\n\u001b[1;32m      3\u001b[0m \u001b[0;34m\u001b[0m\u001b[0m\n\u001b[0;32m----> 4\u001b[0;31m \u001b[0mf_x\u001b[0m \u001b[0;34m=\u001b[0m \u001b[0mx\u001b[0m\u001b[0;34m*\u001b[0m\u001b[0mRD\u001b[0m\u001b[0;34m.\u001b[0m\u001b[0msqrt\u001b[0m\u001b[0;34m(\u001b[0m\u001b[0my\u001b[0m\u001b[0;34m)\u001b[0m\u001b[0;34m\u001b[0m\u001b[0m\n\u001b[0m\u001b[1;32m      5\u001b[0m \u001b[0mf_x\u001b[0m\u001b[0;34m.\u001b[0m\u001b[0mgrad_value\u001b[0m \u001b[0;34m=\u001b[0m \u001b[0;36m1.0\u001b[0m\u001b[0;34m\u001b[0m\u001b[0m\n",
      "\u001b[0;32m/anaconda3/lib/python3.6/site-packages/AD/rev_ad.py\u001b[0m in \u001b[0;36msqrt\u001b[0;34m(x)\u001b[0m\n\u001b[1;32m    142\u001b[0m     \u001b[0mn\u001b[0m \u001b[0;34m=\u001b[0m \u001b[0;34m\"sqrt(\"\u001b[0m \u001b[0;34m+\u001b[0m \u001b[0mstr\u001b[0m\u001b[0;34m(\u001b[0m\u001b[0mx\u001b[0m\u001b[0;34m)\u001b[0m \u001b[0;34m+\u001b[0m \u001b[0;34m\")\"\u001b[0m\u001b[0;34m\u001b[0m\u001b[0m\n\u001b[1;32m    143\u001b[0m     \u001b[0mz\u001b[0m \u001b[0;34m=\u001b[0m \u001b[0mVar\u001b[0m\u001b[0;34m(\u001b[0m\u001b[0mn\u001b[0m\u001b[0;34m,\u001b[0m \u001b[0mmath\u001b[0m\u001b[0;34m.\u001b[0m\u001b[0msqrt\u001b[0m\u001b[0;34m(\u001b[0m\u001b[0mx\u001b[0m\u001b[0;34m.\u001b[0m\u001b[0mvalue\u001b[0m\u001b[0;34m)\u001b[0m\u001b[0;34m)\u001b[0m\u001b[0;34m\u001b[0m\u001b[0m\n\u001b[0;32m--> 144\u001b[0;31m     \u001b[0mx\u001b[0m\u001b[0;34m.\u001b[0m\u001b[0mchildren\u001b[0m\u001b[0;34m.\u001b[0m\u001b[0mappend\u001b[0m\u001b[0;34m(\u001b[0m\u001b[0;34m(\u001b[0m\u001b[0;36m0.5\u001b[0m\u001b[0;34m/\u001b[0m\u001b[0;34m(\u001b[0m\u001b[0mx\u001b[0m\u001b[0;34m.\u001b[0m\u001b[0mvalue\u001b[0m\u001b[0;34m)\u001b[0m\u001b[0;34m**\u001b[0m\u001b[0;36m0.5\u001b[0m\u001b[0;34m,\u001b[0m \u001b[0mz\u001b[0m\u001b[0;34m)\u001b[0m\u001b[0;34m)\u001b[0m\u001b[0;34m\u001b[0m\u001b[0m\n\u001b[0m\u001b[1;32m    145\u001b[0m     \u001b[0;32mreturn\u001b[0m \u001b[0mz\u001b[0m\u001b[0;34m\u001b[0m\u001b[0m\n\u001b[1;32m    146\u001b[0m \u001b[0;34m\u001b[0m\u001b[0m\n",
      "\u001b[0;31mZeroDivisionError\u001b[0m: float division by zero"
     ]
    }
   ],
   "source": [
    "x   = RD.Var(\"x\", 3)\n",
    "y   = RD.Var(\"y\", 0)\n",
    "\n",
    "f_x = x*RD.sqrt(y)\n",
    "f_x.grad_value = 1.0"
   ]
  },
  {
   "cell_type": "markdown",
   "metadata": {
    "slideshow": {
     "slide_type": "-"
    }
   },
   "source": [
    "---"
   ]
  },
  {
   "cell_type": "markdown",
   "metadata": {
    "slideshow": {
     "slide_type": "slide"
    }
   },
   "source": [
    "## 3. Symbolic Differentiation"
   ]
  },
  {
   "cell_type": "markdown",
   "metadata": {
    "slideshow": {
     "slide_type": "-"
    }
   },
   "source": [
    "Symbolic differentiation of a certain function **not possible with forward or backward diferentiation.** \n",
    "\n",
    "$$ f(x)=x^{x^{x}} $$\n"
   ]
  },
  {
   "cell_type": "code",
   "execution_count": 15,
   "metadata": {},
   "outputs": [
    {
     "data": {
      "image/png": "[encoded data removed]",
      "text/plain": [
       "<IPython.core.display.Image object>"
      ]
     },
     "metadata": {
      "image/png": {
       "width": 700
      }
     },
     "output_type": "display_data"
    }
   ],
   "source": [
    "from IPython.display import Image, display\n",
    "display(Image(filename='figs/Wolfram.png', width=700, embed=True))"
   ]
  },
  {
   "cell_type": "markdown",
   "metadata": {
    "slideshow": {
     "slide_type": "fragment"
    }
   },
   "source": [
    "Calculate the symbolic form of the derivative with ```symbolic_diff(dv='x')``` : \n",
    "\n",
    "$$\\dfrac{d}{dx}\\Big( x^{x^{x}} \\Big) = x^{x^x + x - 1} (x log^2(x) + x log(x) + 1) $$"
   ]
  },
  {
   "cell_type": "code",
   "execution_count": 16,
   "metadata": {
    "slideshow": {
     "slide_type": "-"
    }
   },
   "outputs": [
    {
     "data": {
      "text/plain": [
       "x**(x**x - 1)*(x**x + x**(x + 1)*(log(x) + 1)*log(x))"
      ]
     },
     "execution_count": 16,
     "metadata": {},
     "output_type": "execute_result"
    }
   ],
   "source": [
    "from AD.symdif import SD as SD\n",
    "f1 = \"POW(x, POW(x, x))\"\n",
    "vd = \"x:2.0\"\n",
    "F1 = SD(f1)\n",
    "F1.set_point(vd)\n",
    "F1.symbolic_diff(dv='x') "
   ]
  },
  {
   "cell_type": "markdown",
   "metadata": {
    "slideshow": {
     "slide_type": "skip"
    }
   },
   "source": [
    "This is exactly the same solution as WolframAlpha after combining some terms:\n",
    "\n",
    "\n",
    "$$x^{x^x -1} (x^x + x^{x + 1}(\\log(x) + 1)\\log(x))=x^{x^x  -1} (x^x (1 + x^{+ 1}(\\log(x) + 1)\\log(x)) $$"
   ]
  },
  {
   "cell_type": "markdown",
   "metadata": {
    "slideshow": {
     "slide_type": "skip"
    }
   },
   "source": [
    "$$ x^{x^x + x -1} (1 + x(\\log(x)\\log(x) + \\log(x)) ) =x^{x^x + x -1} (1 + x \\log^2(x) + x \\log(x)) )  $$"
   ]
  },
  {
   "cell_type": "markdown",
   "metadata": {
    "slideshow": {
     "slide_type": "-"
    }
   },
   "source": [
    "---"
   ]
  },
  {
   "cell_type": "markdown",
   "metadata": {
    "slideshow": {
     "slide_type": "slide"
    }
   },
   "source": [
    "## Symbolic Differentiation\n",
    "The derivative\n",
    "\n",
    "$$\\dfrac{d}{dx}\\Big( x^{x^{x}} \\Big) = x^{x^x + x - 1} (x log^2(x) + x log(x) + 1) $$\n",
    "\n",
    "Evaluating this derivative at $x=2$ with ```diff(dv='x')```:"
   ]
  },
  {
   "cell_type": "markdown",
   "metadata": {
    "slideshow": {
     "slide_type": "-"
    }
   },
   "source": [
    "$$\\dfrac{d}{dx}\\Big( x^{x^{x}} \\Big) = x^{x^x + x - 1} (x log^2(x) + x log(x) + 1) $$"
   ]
  },
  {
   "cell_type": "markdown",
   "metadata": {
    "slideshow": {
     "slide_type": "-"
    }
   },
   "source": [
    "$$\\dfrac{d}{dx}\\Big( x^{x^{x}} \\Big) = 2^{2^2 + 2 - 1} (2 log^2(2) + 2 log(2) + 1)$$"
   ]
  },
  {
   "cell_type": "markdown",
   "metadata": {
    "slideshow": {
     "slide_type": "-"
    }
   },
   "source": [
    "$$\\dfrac{d}{dx}\\Big( x^{x^{x}} \\Big) = 2^{5} (2 log^2(2) + 2 log(2) + 1)$$"
   ]
  },
  {
   "cell_type": "code",
   "execution_count": 17,
   "metadata": {
    "slideshow": {
     "slide_type": "-"
    }
   },
   "outputs": [
    {
     "data": {
      "text/plain": [
       "107.11041244660139"
      ]
     },
     "execution_count": 17,
     "metadata": {},
     "output_type": "execute_result"
    }
   ],
   "source": [
    "F1.diff(dv='x') "
   ]
  },
  {
   "cell_type": "markdown",
   "metadata": {
    "slideshow": {
     "slide_type": "-"
    }
   },
   "source": [
    "Check:"
   ]
  },
  {
   "cell_type": "code",
   "execution_count": 18,
   "metadata": {
    "slideshow": {
     "slide_type": "-"
    }
   },
   "outputs": [
    {
     "data": {
      "text/plain": [
       "107.11041244660139"
      ]
     },
     "execution_count": 18,
     "metadata": {},
     "output_type": "execute_result"
    }
   ],
   "source": [
    "2**5*(2*math.log(2)**2 + 2*math.log(2) + 1)"
   ]
  },
  {
   "cell_type": "markdown",
   "metadata": {},
   "source": [
    "---"
   ]
  },
  {
   "cell_type": "markdown",
   "metadata": {
    "slideshow": {
     "slide_type": "slide"
    }
   },
   "source": [
    " ## Symbolic Differentiation: multiple variables\n",
    " **Derivation regarding multiple variables**: ```diff_all()```"
   ]
  },
  {
   "cell_type": "markdown",
   "metadata": {
    "slideshow": {
     "slide_type": "-"
    }
   },
   "source": [
    "$$f(x)=x \\cdot y \\cdot z$$"
   ]
  },
  {
   "cell_type": "markdown",
   "metadata": {
    "slideshow": {
     "slide_type": "-"
    }
   },
   "source": [
    "$$\\dfrac{d}{dx}\\big( xyz \\big) =yz=2\\cdot3=6$$"
   ]
  },
  {
   "cell_type": "markdown",
   "metadata": {
    "slideshow": {
     "slide_type": "-"
    }
   },
   "source": [
    "$$\\dfrac{d}{dy}\\big( xyz \\big)=xz=1\\cdot3=3$$"
   ]
  },
  {
   "cell_type": "markdown",
   "metadata": {
    "slideshow": {
     "slide_type": "-"
    }
   },
   "source": [
    "$$\\dfrac{d}{dz}\\big( xyz \\big)=xy=1\\cdot2=2$$"
   ]
  },
  {
   "cell_type": "code",
   "execution_count": 19,
   "metadata": {
    "slideshow": {
     "slide_type": "-"
    }
   },
   "outputs": [
    {
     "data": {
      "text/plain": [
       "{'d_x': 6.0, 'd_y': 3.0, 'd_z': 2.0}"
      ]
     },
     "execution_count": 19,
     "metadata": {},
     "output_type": "execute_result"
    }
   ],
   "source": [
    "f2 = \"x*y*z\"\n",
    "vd = \"x:1, y:2, z:3\"\n",
    "F2 = SD(f2)\n",
    "F2.set_point(vd)\n",
    "F2.diff_all()"
   ]
  },
  {
   "cell_type": "markdown",
   "metadata": {
    "slideshow": {
     "slide_type": "-"
    }
   },
   "source": [
    "---"
   ]
  },
  {
   "cell_type": "markdown",
   "metadata": {
    "slideshow": {
     "slide_type": "slide"
    }
   },
   "source": [
    "## Symbolic Differentiation: Higher order\n",
    "**Higher order derivation**: ```symbolic_diff(\"x\", order = n_order)```"
   ]
  },
  {
   "cell_type": "markdown",
   "metadata": {
    "slideshow": {
     "slide_type": "-"
    }
   },
   "source": [
    "$$f(x) = \\sin(x) + e^{-2x}$$"
   ]
  },
  {
   "cell_type": "markdown",
   "metadata": {
    "slideshow": {
     "slide_type": "-"
    }
   },
   "source": [
    "$$\\dfrac{d}{dx}(e^{2x})= \\cos(x) - 2 e^{-2 x} $$"
   ]
  },
  {
   "cell_type": "markdown",
   "metadata": {
    "slideshow": {
     "slide_type": "-"
    }
   },
   "source": [
    "$$\\dfrac{d^2}{dx^2}(e^{2x})= - \\sin(x) + 4 e^{-2 x} $$"
   ]
  },
  {
   "cell_type": "markdown",
   "metadata": {
    "slideshow": {
     "slide_type": "-"
    }
   },
   "source": [
    "$$\\dfrac{d^3}{dx^3}(e^{2x})= - \\cos(x)  - 8 e^{-2 x} $$"
   ]
  },
  {
   "cell_type": "code",
   "execution_count": 20,
   "metadata": {
    "slideshow": {
     "slide_type": "-"
    }
   },
   "outputs": [
    {
     "data": {
      "text/plain": [
       "cos(x) - 2.0*exp(-2.0*x)"
      ]
     },
     "execution_count": 20,
     "metadata": {},
     "output_type": "execute_result"
    }
   ],
   "source": [
    "f1 = \"sin(x) + EXP(-2*x)\"\n",
    "vd = \"x:2\"\n",
    "F1 = SD(f1)\n",
    "F1.set_point(vd)\n",
    "F1.symbolic_diff(\"x\") "
   ]
  },
  {
   "cell_type": "code",
   "execution_count": 21,
   "metadata": {
    "slideshow": {
     "slide_type": "fragment"
    }
   },
   "outputs": [
    {
     "data": {
      "text/plain": [
       "-sin(x) + 4.0*exp(-2.0*x)"
      ]
     },
     "execution_count": 21,
     "metadata": {},
     "output_type": "execute_result"
    }
   ],
   "source": [
    "F1.symbolic_diff(\"x\", order=2)"
   ]
  },
  {
   "cell_type": "code",
   "execution_count": 22,
   "metadata": {
    "slideshow": {
     "slide_type": "fragment"
    }
   },
   "outputs": [
    {
     "data": {
      "text/plain": [
       "-cos(x) - 8.0*exp(-2.0*x)"
      ]
     },
     "execution_count": 22,
     "metadata": {},
     "output_type": "execute_result"
    }
   ],
   "source": [
    "F1.symbolic_diff(\"x\", order=3) "
   ]
  },
  {
   "cell_type": "markdown",
   "metadata": {
    "slideshow": {
     "slide_type": "-"
    }
   },
   "source": [
    "---"
   ]
  },
  {
   "cell_type": "markdown",
   "metadata": {
    "slideshow": {
     "slide_type": "slide"
    }
   },
   "source": [
    "## 3. Symbolic differentiation\n",
    "\n",
    "### Pros\n",
    "\n",
    " - Return the formula as a string, easy computation of\n",
    " \n",
    "  - High order derivatives\n",
    " \n",
    " - Derivatives with respect to many variables\n",
    " - Derivatives at different coordinates with ```set_point()```\n",
    "\n",
    " \n",
    "### Cons\n",
    " \n",
    " - Slow\n",
    " - High memory usage"
   ]
  },
  {
   "cell_type": "markdown",
   "metadata": {
    "slideshow": {
     "slide_type": "-"
    }
   },
   "source": [
    "---"
   ]
  },
  {
   "cell_type": "markdown",
   "metadata": {
    "slideshow": {
     "slide_type": "slide"
    }
   },
   "source": [
    "## Sympy package integration: Python library for symbolic mathematics"
   ]
  },
  {
   "cell_type": "markdown",
   "metadata": {
    "slideshow": {
     "slide_type": "-"
    }
   },
   "source": [
    "``` \n",
    "f1 = \"(((((POW(x,3.0)*(3.0/x))*(3.0/x))+(POW(x,3.0)*((-3.0)/(x*x))))*y)*y)\"\n",
    "\n",
    "df1/dx = \"((((((((POW(x,3.0)*(3.0/x))*(3.0/x))+(POW(x,3.0)*((-3.0)/(x*x))))*(3.0/x))+((POW(x,3.0)*(3.0/x))*((-3.0)/(x*x))))+(((POW(x,3.0)*(3.0/x))*(-3.0/(x*x)))+(POW(x,3.0)*(((-0*(x*x))-(-3.0*(x+x)))/((x*x)*(x*x))))))*y)*y)\"\n",
    "```\n",
    "#### In ```symdif.SD.simplify()```  we use ```Sympy``` for simplification (not for symbolic differentiation!)"
   ]
  },
  {
   "cell_type": "markdown",
   "metadata": {
    "slideshow": {
     "slide_type": "-"
    }
   },
   "source": [
    "```python\n",
    "f1 = \"(((((POW(x,3.0)*(3.0/x))*(3.0/x))+(POW(x,3.0)*((-3.0)/(x*x))))*y)*y)\"\n",
    "f1 = \"((((POW(x,1.0)*9.0)+(POW(x,3.0)*((-3.0)/(x*x))))*y)*y)\"\n",
    "f1 = \"((((POW(x,1.0)*9.0)+(POW(x,1.0)*(-3.0)))*y)*y)\"\n",
    "f1 = \"(((x*9.0)+x*-3.0))*y)*y)\"\n",
    "f1 = \"((x*6.0)*y**2))\"\n",
    "f1 = \"6*x*y**2\"\n",
    "```\n",
    "$$\\dfrac{d}{dx} \\Big( f_1(x,y) \\Big) = \\dfrac{d}{dx} \\Big( 6xy^2 \\Big) = 6y^2$$"
   ]
  },
  {
   "cell_type": "code",
   "execution_count": 23,
   "metadata": {
    "slideshow": {
     "slide_type": "fragment"
    }
   },
   "outputs": [
    {
     "name": "stdout",
     "output_type": "stream",
     "text": [
      "\n",
      "Symbolic differentiation result:\n",
      "((((((((POW(x,3.0)*(3.0/x))*(3.0/x))+(POW(x,3.0)*((-3.0)/(x*x))))*(3.0/x))+((POW(x,3.0)*(3.0/x))*((-3.0)/(x*x))))+(((POW(x,3.0)*(3.0/x))*(-3.0/(x*x)))+(POW(x,3.0)*(((-0*(x*x))-(-3.0*(x+x)))/((x*x)*(x*x))))))*y)*y)\n",
      "\n",
      "Simplified Pretty Print:\n",
      "\n",
      "     2\n",
      "6.0⋅y \n",
      "\n",
      "Simplified Latex code:\n",
      "6.0 y^{2}\n",
      "\n",
      "Simplified Default:\n",
      "6.0*y**2 \n",
      "\n"
     ]
    }
   ],
   "source": [
    "f1 = \"(((((POW(x,3.0)*(3.0/x))*(3.0/x))+(POW(x,3.0)*((-3.0)/(x*x))))*y)*y)\"\n",
    "F1 = SD(f1)\n",
    "vd = \"x:1, y:2\"\n",
    "F1.set_point(vd)\n",
    "F1.symbolic_diff(\"x\", output='all');"
   ]
  },
  {
   "cell_type": "markdown",
   "metadata": {
    "slideshow": {
     "slide_type": "-"
    }
   },
   "source": [
    "---"
   ]
  },
  {
   "cell_type": "markdown",
   "metadata": {
    "slideshow": {
     "slide_type": "slide"
    }
   },
   "source": [
    "## Sympy package integration: Python library for symbolic mathematics. \n",
    "### Production of latex usable code"
   ]
  },
  {
   "cell_type": "code",
   "execution_count": 24,
   "metadata": {
    "slideshow": {
     "slide_type": "-"
    }
   },
   "outputs": [
    {
     "name": "stdout",
     "output_type": "stream",
     "text": [
      "\\frac{1}{\\cos^{2}{\\left (x \\right )}}\n"
     ]
    }
   ],
   "source": [
    "f1 = \"TAN(x)\"\n",
    "vd = \"x:2\"\n",
    "F1 = SD(f1)\n",
    "F1.set_point(vd)\n",
    "print(F1.symbolic_diff(\"x\", output='latex') ) "
   ]
  },
  {
   "cell_type": "markdown",
   "metadata": {
    "slideshow": {
     "slide_type": "fragment"
    }
   },
   "source": [
    "When we latex this result: ``` \\frac{1}{\\cos^{2}{\\left (x \\right )}} ``` we get:"
   ]
  },
  {
   "cell_type": "markdown",
   "metadata": {
    "slideshow": {
     "slide_type": "fragment"
    }
   },
   "source": [
    "$$\\frac{1}{\\cos^{2}{\\left (x \\right )}}\n",
    "$$"
   ]
  },
  {
   "cell_type": "markdown",
   "metadata": {
    "slideshow": {
     "slide_type": "-"
    }
   },
   "source": [
    "---"
   ]
  },
  {
   "cell_type": "markdown",
   "metadata": {
    "slideshow": {
     "slide_type": "slide"
    }
   },
   "source": [
    "## Conclusion\n",
    "\n",
    "#### AD Package Features\n",
    "  \n",
    " 1. Forward mode automatic differentiation\n",
    " 2. Reverse mode automatic differentiation\n",
    " 3. Symbolic differentiation "
   ]
  },
  {
   "cell_type": "code",
   "execution_count": 25,
   "metadata": {
    "slideshow": {
     "slide_type": "-"
    }
   },
   "outputs": [
    {
     "name": "stdout",
     "output_type": "stream",
     "text": [
      "Questions?\n"
     ]
    }
   ],
   "source": [
    "print( 'Questions?')"
   ]
  },
  {
   "cell_type": "markdown",
   "metadata": {
    "slideshow": {
     "slide_type": "-"
    }
   },
   "source": [
    "---"
   ]
  },
  {
   "cell_type": "markdown",
   "metadata": {
    "slideshow": {
     "slide_type": "slide"
    }
   },
   "source": [
    "## Setting the stage for a Jupyter Notebook Slideshow! <a name=\"slides\"></a>"
   ]
  },
  {
   "cell_type": "markdown",
   "metadata": {},
   "source": [
    "Best display by installing the excellent **RISE package** the [Jupyter/IPython Slideshow Extension of damianavila](https://github.com/damianavila/RISE). Install by ```   >>> conda install -c conda-forge rise```\n",
    " \n",
    "Afterwards a new button will after, after reopening a jupyter notebook:"
   ]
  },
  {
   "cell_type": "code",
   "execution_count": 26,
   "metadata": {},
   "outputs": [
    {
     "data": {
      "image/png": "[encoded data removed]",
      "text/plain": [
       "<IPython.core.display.Image object>"
      ]
     },
     "metadata": {
      "image/png": {
       "width": 700
      }
     },
     "output_type": "display_data"
    }
   ],
   "source": [
    "from IPython.display import Image, display\n",
    "display(Image(filename='figs/IPythonSlideshow.png', width=700, embed=True))"
   ]
  },
  {
   "cell_type": "markdown",
   "metadata": {},
   "source": [
    "**Custum layout CSS**"
   ]
  },
  {
   "cell_type": "code",
   "execution_count": null,
   "metadata": {},
   "outputs": [],
   "source": [
    "import requests\n",
    "from IPython.core.display import HTML\n",
    "HTML(requests.get(\"https://raw.githubusercontent.com/cs207-f18-WIRS/cs207-FinalProject/master/demo/figs/Robbert_Struyven_css_config.css\").text )"
   ]
  },
  {
   "cell_type": "markdown",
   "metadata": {},
   "source": [
    "**Removing prompt numbers** ```In [1]:``` and ```Out [1]:``` ( If you want them back replace '''none''' with '''True''')"
   ]
  },
  {
   "cell_type": "code",
   "execution_count": null,
   "metadata": {},
   "outputs": [],
   "source": [
    "%%HTML \n",
    "<style> div.prompt {display:none} </style>"
   ]
  },
  {
   "cell_type": "markdown",
   "metadata": {},
   "source": [
    "**Adjust width:** "
   ]
  },
  {
   "cell_type": "code",
   "execution_count": null,
   "metadata": {},
   "outputs": [],
   "source": [
    "from IPython.core.display import display, HTML\n",
    "display(HTML(\"<style>.container { width:95% !important; }</style>\"))"
   ]
  },
  {
   "cell_type": "markdown",
   "metadata": {},
   "source": [
    "**Navigate to next slide with arrows ->**"
   ]
  },
  {
   "cell_type": "code",
   "execution_count": null,
   "metadata": {},
   "outputs": [],
   "source": []
  }
 ],
 "metadata": {
  "celltoolbar": "Slideshow",
  "kernelspec": {
   "display_name": "Python 3",
   "language": "python",
   "name": "python3"
  },
  "language_info": {
   "codemirror_mode": {
    "name": "ipython",
    "version": 3
   },
   "file_extension": ".py",
   "mimetype": "text/x-python",
   "name": "python",
   "nbconvert_exporter": "python",
   "pygments_lexer": "ipython3",
   "version": "3.6.6"
  },
  "varInspector": {
   "cols": {
    "lenName": 16,
    "lenType": 16,
    "lenVar": 40
   },
   "kernels_config": {
    "python": {
     "delete_cmd_postfix": "",
     "delete_cmd_prefix": "del ",
     "library": "var_list.py",
     "varRefreshCmd": "print(var_dic_list())"
    },
    "r": {
     "delete_cmd_postfix": ") ",
     "delete_cmd_prefix": "rm(",
     "library": "var_list.r",
     "varRefreshCmd": "cat(var_dic_list()) "
    }
   },
   "tags": [
    "to_remove"
   ],
   "types_to_exclude": [
    "module",
    "function",
    "builtin_function_or_method",
    "instance",
    "_Feature",
    "tags"
   ],
   "window_display": false
  }
 },
 "nbformat": 4,
 "nbformat_minor": 1
}
