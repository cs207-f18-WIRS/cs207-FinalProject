{
 "cells": [
  {
   "cell_type": "markdown",
   "metadata": {},
   "source": [
    "  - The exact result of *Wolfram Alpha*: \n",
    "\n",
    "\\begin{align}\\dfrac{d}{dx}\\Big(f(x)\\Big)&=\\dfrac{d}{dx}\\Big(x^{x^x}\\Big)\\nonumber\\\\&=x^{x^x+x-1}(x\\log^2(x)+x\\log(x)+1)\\nonumber\\end{align}\n",
    "  - Evaluated at $x=2$ gives the following result:\n",
    "\n",
    "\\begin{align}\\dfrac{d}{dx}\\Big(f(x=2)\\Big)&=2^{2^2+2-1}\\big(2\\log^2(2)+2\\log(2)+1\\big)\\nonumber\\\\&=32\\big(2\\log_2(2)+2\\log(2)+1\\big)\\nonumber\\\\&=\\underline{107.11041244660139}098139741...\\nonumber\\end{align}\n",
    "  - We obtain machine precision.\n",
    "     "
   ]
  },
  {
   "cell_type": "code",
   "execution_count": null,
   "metadata": {},
   "outputs": [],
   "source": []
  }
 ],
 "metadata": {
  "kernelspec": {
   "display_name": "Python 3",
   "language": "python",
   "name": "python3"
  },
  "language_info": {
   "codemirror_mode": {
    "name": "ipython",
    "version": 3
   },
   "file_extension": ".py",
   "mimetype": "text/x-python",
   "name": "python",
   "nbconvert_exporter": "python",
   "pygments_lexer": "ipython3",
   "version": "3.6.6"
  }
 },
 "nbformat": 4,
 "nbformat_minor": 2
}
